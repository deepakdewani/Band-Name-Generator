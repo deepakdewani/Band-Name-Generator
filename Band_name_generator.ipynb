{
  "nbformat": 4,
  "nbformat_minor": 0,
  "metadata": {
    "colab": {
      "name": "Band name generator.ipynb",
      "provenance": []
    },
    "kernelspec": {
      "name": "python3",
      "display_name": "Python 3"
    },
    "language_info": {
      "name": "python"
    }
  },
  "cells": [
    {
      "cell_type": "code",
      "execution_count": 10,
      "metadata": {
        "colab": {
          "base_uri": "https://localhost:8080/"
        },
        "id": "HPYqLP7ZH1hE",
        "outputId": "830cc6b5-76f1-4074-cc5d-c2ea23269844"
      },
      "outputs": [
        {
          "output_type": "stream",
          "name": "stdout",
          "text": [
            "Welcome to the Band name generator!!\n",
            "\n",
            "Enter your city where you grew up \n",
            "Nagpur\n",
            "Enter your name of pet \n",
            "Rocky\n",
            "Congrats!! your Band name is  Nagpur Rocky\n"
          ]
        }
      ],
      "source": [
        "#1. Create greetings for your user!!\n",
        "\n",
        "print(\"Welcome to the Band name generator!!\\n\")\n",
        "#2. Ask the user for the city that they grew up in.\n",
        "city_name = input(\"Enter your city where you grew up \\n\")\n",
        "\n",
        "#3. Ask the user for the name of a pet.\n",
        "pet_name = input(\"Enter your name of pet \\n\")\n",
        "\n",
        "#4. Combine the name of their city and pet and show them their band name.\n",
        "print(\"Congrats!! your Band name is \", city_name, pet_name)"
      ]
    },
    {
      "cell_type": "code",
      "source": [
        ""
      ],
      "metadata": {
        "id": "a96wcGzhJ0R5"
      },
      "execution_count": 8,
      "outputs": []
    }
  ]
}