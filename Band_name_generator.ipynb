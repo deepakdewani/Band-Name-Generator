{
  "nbformat": 4,
  "nbformat_minor": 0,
  "metadata": {
    "colab": {
      "name": "Band name generator.ipynb",
      "provenance": [],
      "authorship_tag": "ABX9TyP3rcMtgLWs/MBNyJftfYbn",
      "include_colab_link": true
    },
    "kernelspec": {
      "name": "python3",
      "display_name": "Python 3"
    },
    "language_info": {
      "name": "python"
    }
  },
  "cells": [
    {
      "cell_type": "markdown",
      "metadata": {
        "id": "view-in-github",
        "colab_type": "text"
      },
      "source": [
        "<a href=\"https://colab.research.google.com/github/deepakdewani/Band-Name-Generator/blob/main/Band_name_generator.ipynb\" target=\"_parent\"><img src=\"https://colab.research.google.com/assets/colab-badge.svg\" alt=\"Open In Colab\"/></a>"
      ]
    },
    {
      "cell_type": "code",
      "execution_count": null,
      "metadata": {
        "id": "HPYqLP7ZH1hE"
      },
      "outputs": [],
      "source": [
        "#1. Create greetings for your user!!\n",
        "\n",
        "print(\"Welcome to the Band name generator!!\\n\")\n",
        "#2. Ask the user for the city that they grew up in.\n",
        "city_name = input(\"Enter your city where you grew up \\n\")\n",
        "\n",
        "#3. Ask the user for the name of a pet.\n",
        "pet_name = input(\"Enter your name of pet \\n\")\n",
        "\n",
        "#4. Combine the name of their city and pet and show them their band name.\n",
        "print(\"Congrats!! your Band name is \", city_name, pet_name)"
      ]
    },
    {
      "cell_type": "code",
      "source": [
        ""
      ],
      "metadata": {
        "id": "a96wcGzhJ0R5"
      },
      "execution_count": 8,
      "outputs": []
    }
  ]
}